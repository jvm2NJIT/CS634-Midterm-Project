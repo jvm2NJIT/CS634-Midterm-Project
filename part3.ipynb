{
 "cells": [
  {
   "cell_type": "code",
   "execution_count": 1,
   "metadata": {},
   "outputs": [],
   "source": [
    "import pandas as pd\n",
    "import mlxtend"
   ]
  },
  {
   "cell_type": "markdown",
   "metadata": {},
   "source": [
    "Brute Force"
   ]
  },
  {
   "cell_type": "code",
   "execution_count": 2,
   "metadata": {},
   "outputs": [],
   "source": [
    "%run part2.ipynb\n",
    "\n",
    "items = ['Shampoo', 'Apple', 'Banana', 'Milk', 'Eggs', 'Soap', 'Bacon', 'Sugar', 'Water', 'Yogurt']\n",
    "items = sorted(items)\n",
    "\n",
    "a = brute_force(items, 'Database1.csv', 0.35, 0.4)"
   ]
  },
  {
   "cell_type": "markdown",
   "metadata": {},
   "source": [
    "Brute Force Frequent Itemsets"
   ]
  },
  {
   "cell_type": "code",
   "execution_count": 3,
   "metadata": {},
   "outputs": [
    {
     "data": {
      "text/plain": [
       "[('Apple',),\n",
       " ('Bacon',),\n",
       " ('Banana',),\n",
       " ('Eggs',),\n",
       " ('Milk',),\n",
       " ('Shampoo',),\n",
       " ('Soap',),\n",
       " ('Sugar',),\n",
       " ('Water',),\n",
       " ('Yogurt',),\n",
       " ('Apple', 'Banana'),\n",
       " ('Apple', 'Eggs'),\n",
       " ('Apple', 'Soap'),\n",
       " ('Apple', 'Sugar'),\n",
       " ('Apple', 'Water'),\n",
       " ('Bacon', 'Soap'),\n",
       " ('Bacon', 'Water'),\n",
       " ('Banana', 'Eggs'),\n",
       " ('Banana', 'Shampoo'),\n",
       " ('Banana', 'Soap'),\n",
       " ('Banana', 'Water'),\n",
       " ('Banana', 'Yogurt'),\n",
       " ('Eggs', 'Milk'),\n",
       " ('Eggs', 'Shampoo'),\n",
       " ('Eggs', 'Soap'),\n",
       " ('Eggs', 'Sugar'),\n",
       " ('Eggs', 'Water'),\n",
       " ('Shampoo', 'Water'),\n",
       " ('Soap', 'Sugar'),\n",
       " ('Soap', 'Water'),\n",
       " ('Water', 'Yogurt'),\n",
       " ('Apple', 'Banana', 'Eggs'),\n",
       " ('Apple', 'Eggs', 'Sugar'),\n",
       " ('Eggs', 'Soap', 'Water')]"
      ]
     },
     "execution_count": 3,
     "metadata": {},
     "output_type": "execute_result"
    }
   ],
   "source": [
    "a[0]"
   ]
  },
  {
   "cell_type": "markdown",
   "metadata": {},
   "source": [
    "Brute Force Association Rules"
   ]
  },
  {
   "cell_type": "code",
   "execution_count": 4,
   "metadata": {},
   "outputs": [
    {
     "data": {
      "text/plain": [
       "[[('Apple',), ('Banana',)],\n",
       " [('Banana',), ('Apple',)],\n",
       " [('Apple',), ('Eggs',)],\n",
       " [('Eggs',), ('Apple',)],\n",
       " [('Apple',), ('Soap',)],\n",
       " [('Soap',), ('Apple',)],\n",
       " [('Apple',), ('Sugar',)],\n",
       " [('Sugar',), ('Apple',)],\n",
       " [('Apple',), ('Water',)],\n",
       " [('Water',), ('Apple',)],\n",
       " [('Bacon',), ('Soap',)],\n",
       " [('Soap',), ('Bacon',)],\n",
       " [('Bacon',), ('Water',)],\n",
       " [('Water',), ('Bacon',)],\n",
       " [('Banana',), ('Eggs',)],\n",
       " [('Eggs',), ('Banana',)],\n",
       " [('Banana',), ('Shampoo',)],\n",
       " [('Shampoo',), ('Banana',)],\n",
       " [('Banana',), ('Soap',)],\n",
       " [('Soap',), ('Banana',)],\n",
       " [('Banana',), ('Water',)],\n",
       " [('Water',), ('Banana',)],\n",
       " [('Banana',), ('Yogurt',)],\n",
       " [('Yogurt',), ('Banana',)],\n",
       " [('Eggs',), ('Milk',)],\n",
       " [('Milk',), ('Eggs',)],\n",
       " [('Eggs',), ('Shampoo',)],\n",
       " [('Shampoo',), ('Eggs',)],\n",
       " [('Eggs',), ('Soap',)],\n",
       " [('Soap',), ('Eggs',)],\n",
       " [('Eggs',), ('Sugar',)],\n",
       " [('Sugar',), ('Eggs',)],\n",
       " [('Eggs',), ('Water',)],\n",
       " [('Water',), ('Eggs',)],\n",
       " [('Shampoo',), ('Water',)],\n",
       " [('Water',), ('Shampoo',)],\n",
       " [('Soap',), ('Sugar',)],\n",
       " [('Sugar',), ('Soap',)],\n",
       " [('Soap',), ('Water',)],\n",
       " [('Water',), ('Soap',)],\n",
       " [('Water',), ('Yogurt',)],\n",
       " [('Yogurt',), ('Water',)],\n",
       " [('Apple',), ('Banana', 'Eggs')],\n",
       " [('Banana',), ('Apple', 'Eggs')],\n",
       " [('Eggs',), ('Apple', 'Banana')],\n",
       " [('Apple', 'Banana'), ('Eggs',)],\n",
       " [('Apple', 'Eggs'), ('Banana',)],\n",
       " [('Banana', 'Eggs'), ('Apple',)],\n",
       " [('Apple',), ('Eggs', 'Sugar')],\n",
       " [('Eggs',), ('Apple', 'Sugar')],\n",
       " [('Sugar',), ('Apple', 'Eggs')],\n",
       " [('Apple', 'Eggs'), ('Sugar',)],\n",
       " [('Apple', 'Sugar'), ('Eggs',)],\n",
       " [('Eggs', 'Sugar'), ('Apple',)],\n",
       " [('Eggs',), ('Soap', 'Water')],\n",
       " [('Soap',), ('Eggs', 'Water')],\n",
       " [('Water',), ('Eggs', 'Soap')],\n",
       " [('Eggs', 'Soap'), ('Water',)],\n",
       " [('Eggs', 'Water'), ('Soap',)],\n",
       " [('Soap', 'Water'), ('Eggs',)]]"
      ]
     },
     "execution_count": 4,
     "metadata": {},
     "output_type": "execute_result"
    }
   ],
   "source": [
    "a[1]"
   ]
  },
  {
   "cell_type": "markdown",
   "metadata": {},
   "source": [
    "Apriori"
   ]
  },
  {
   "cell_type": "code",
   "execution_count": 5,
   "metadata": {},
   "outputs": [],
   "source": [
    "from mlxtend.frequent_patterns import apriori, association_rules, fpgrowth"
   ]
  },
  {
   "cell_type": "markdown",
   "metadata": {},
   "source": [
    "Apriori Frequent Itemsets"
   ]
  },
  {
   "cell_type": "code",
   "execution_count": 6,
   "metadata": {},
   "outputs": [
    {
     "data": {
      "text/html": [
       "<div>\n",
       "<style scoped>\n",
       "    .dataframe tbody tr th:only-of-type {\n",
       "        vertical-align: middle;\n",
       "    }\n",
       "\n",
       "    .dataframe tbody tr th {\n",
       "        vertical-align: top;\n",
       "    }\n",
       "\n",
       "    .dataframe thead th {\n",
       "        text-align: right;\n",
       "    }\n",
       "</style>\n",
       "<table border=\"1\" class=\"dataframe\">\n",
       "  <thead>\n",
       "    <tr style=\"text-align: right;\">\n",
       "      <th></th>\n",
       "      <th>support</th>\n",
       "      <th>itemsets</th>\n",
       "    </tr>\n",
       "  </thead>\n",
       "  <tbody>\n",
       "    <tr>\n",
       "      <th>0</th>\n",
       "      <td>0.50</td>\n",
       "      <td>(Apple)</td>\n",
       "    </tr>\n",
       "    <tr>\n",
       "      <th>1</th>\n",
       "      <td>0.55</td>\n",
       "      <td>(Banana)</td>\n",
       "    </tr>\n",
       "    <tr>\n",
       "      <th>2</th>\n",
       "      <td>0.65</td>\n",
       "      <td>(Eggs)</td>\n",
       "    </tr>\n",
       "    <tr>\n",
       "      <th>3</th>\n",
       "      <td>0.60</td>\n",
       "      <td>(Soap)</td>\n",
       "    </tr>\n",
       "    <tr>\n",
       "      <th>4</th>\n",
       "      <td>0.65</td>\n",
       "      <td>(Water)</td>\n",
       "    </tr>\n",
       "    <tr>\n",
       "      <th>5</th>\n",
       "      <td>0.55</td>\n",
       "      <td>(Yogurt)</td>\n",
       "    </tr>\n",
       "    <tr>\n",
       "      <th>6</th>\n",
       "      <td>0.50</td>\n",
       "      <td>(Soap, Water)</td>\n",
       "    </tr>\n",
       "  </tbody>\n",
       "</table>\n",
       "</div>"
      ],
      "text/plain": [
       "   support       itemsets\n",
       "0     0.50        (Apple)\n",
       "1     0.55       (Banana)\n",
       "2     0.65         (Eggs)\n",
       "3     0.60         (Soap)\n",
       "4     0.65        (Water)\n",
       "5     0.55       (Yogurt)\n",
       "6     0.50  (Soap, Water)"
      ]
     },
     "execution_count": 6,
     "metadata": {},
     "output_type": "execute_result"
    }
   ],
   "source": [
    "df1 = pd.read_csv('Database1.csv')\n",
    "df1.drop(columns=df1.columns[0], axis=1, inplace=True)\n",
    "a = apriori(df1, min_support=0.5, use_colnames=True)\n",
    "a"
   ]
  },
  {
   "cell_type": "markdown",
   "metadata": {},
   "source": [
    "Apriori Association Rules"
   ]
  },
  {
   "cell_type": "code",
   "execution_count": 7,
   "metadata": {},
   "outputs": [
    {
     "data": {
      "text/html": [
       "<div>\n",
       "<style scoped>\n",
       "    .dataframe tbody tr th:only-of-type {\n",
       "        vertical-align: middle;\n",
       "    }\n",
       "\n",
       "    .dataframe tbody tr th {\n",
       "        vertical-align: top;\n",
       "    }\n",
       "\n",
       "    .dataframe thead th {\n",
       "        text-align: right;\n",
       "    }\n",
       "</style>\n",
       "<table border=\"1\" class=\"dataframe\">\n",
       "  <thead>\n",
       "    <tr style=\"text-align: right;\">\n",
       "      <th></th>\n",
       "      <th>antecedents</th>\n",
       "      <th>consequents</th>\n",
       "      <th>confidence</th>\n",
       "    </tr>\n",
       "  </thead>\n",
       "  <tbody>\n",
       "    <tr>\n",
       "      <th>0</th>\n",
       "      <td>(Soap)</td>\n",
       "      <td>(Water)</td>\n",
       "      <td>0.833333</td>\n",
       "    </tr>\n",
       "    <tr>\n",
       "      <th>1</th>\n",
       "      <td>(Water)</td>\n",
       "      <td>(Soap)</td>\n",
       "      <td>0.769231</td>\n",
       "    </tr>\n",
       "  </tbody>\n",
       "</table>\n",
       "</div>"
      ],
      "text/plain": [
       "  antecedents consequents  confidence\n",
       "0      (Soap)     (Water)    0.833333\n",
       "1     (Water)      (Soap)    0.769231"
      ]
     },
     "execution_count": 7,
     "metadata": {},
     "output_type": "execute_result"
    }
   ],
   "source": [
    "rules = association_rules(a, metric='confidence', min_threshold=0.75)\n",
    "rules[['antecedents', 'consequents', 'confidence']]"
   ]
  },
  {
   "cell_type": "markdown",
   "metadata": {},
   "source": [
    "FP Tree"
   ]
  },
  {
   "cell_type": "markdown",
   "metadata": {},
   "source": [
    "FP Tree Frequent Itemsets"
   ]
  },
  {
   "cell_type": "code",
   "execution_count": 8,
   "metadata": {},
   "outputs": [
    {
     "data": {
      "text/html": [
       "<div>\n",
       "<style scoped>\n",
       "    .dataframe tbody tr th:only-of-type {\n",
       "        vertical-align: middle;\n",
       "    }\n",
       "\n",
       "    .dataframe tbody tr th {\n",
       "        vertical-align: top;\n",
       "    }\n",
       "\n",
       "    .dataframe thead th {\n",
       "        text-align: right;\n",
       "    }\n",
       "</style>\n",
       "<table border=\"1\" class=\"dataframe\">\n",
       "  <thead>\n",
       "    <tr style=\"text-align: right;\">\n",
       "      <th></th>\n",
       "      <th>support</th>\n",
       "      <th>itemsets</th>\n",
       "    </tr>\n",
       "  </thead>\n",
       "  <tbody>\n",
       "    <tr>\n",
       "      <th>0</th>\n",
       "      <td>0.65</td>\n",
       "      <td>(Water)</td>\n",
       "    </tr>\n",
       "    <tr>\n",
       "      <th>1</th>\n",
       "      <td>0.65</td>\n",
       "      <td>(Eggs)</td>\n",
       "    </tr>\n",
       "    <tr>\n",
       "      <th>2</th>\n",
       "      <td>0.60</td>\n",
       "      <td>(Soap)</td>\n",
       "    </tr>\n",
       "    <tr>\n",
       "      <th>3</th>\n",
       "      <td>0.50</td>\n",
       "      <td>(Apple)</td>\n",
       "    </tr>\n",
       "    <tr>\n",
       "      <th>4</th>\n",
       "      <td>0.55</td>\n",
       "      <td>(Yogurt)</td>\n",
       "    </tr>\n",
       "    <tr>\n",
       "      <th>5</th>\n",
       "      <td>0.55</td>\n",
       "      <td>(Banana)</td>\n",
       "    </tr>\n",
       "    <tr>\n",
       "      <th>6</th>\n",
       "      <td>0.50</td>\n",
       "      <td>(Soap, Water)</td>\n",
       "    </tr>\n",
       "  </tbody>\n",
       "</table>\n",
       "</div>"
      ],
      "text/plain": [
       "   support       itemsets\n",
       "0     0.65        (Water)\n",
       "1     0.65         (Eggs)\n",
       "2     0.60         (Soap)\n",
       "3     0.50        (Apple)\n",
       "4     0.55       (Yogurt)\n",
       "5     0.55       (Banana)\n",
       "6     0.50  (Soap, Water)"
      ]
     },
     "execution_count": 8,
     "metadata": {},
     "output_type": "execute_result"
    }
   ],
   "source": [
    "f = fpgrowth(df1, min_support=0.5, use_colnames=True)\n",
    "f"
   ]
  },
  {
   "cell_type": "markdown",
   "metadata": {},
   "source": [
    "FP Tree Association Rules"
   ]
  },
  {
   "cell_type": "code",
   "execution_count": 9,
   "metadata": {},
   "outputs": [
    {
     "data": {
      "text/html": [
       "<div>\n",
       "<style scoped>\n",
       "    .dataframe tbody tr th:only-of-type {\n",
       "        vertical-align: middle;\n",
       "    }\n",
       "\n",
       "    .dataframe tbody tr th {\n",
       "        vertical-align: top;\n",
       "    }\n",
       "\n",
       "    .dataframe thead th {\n",
       "        text-align: right;\n",
       "    }\n",
       "</style>\n",
       "<table border=\"1\" class=\"dataframe\">\n",
       "  <thead>\n",
       "    <tr style=\"text-align: right;\">\n",
       "      <th></th>\n",
       "      <th>antecedents</th>\n",
       "      <th>consequents</th>\n",
       "      <th>confidence</th>\n",
       "    </tr>\n",
       "  </thead>\n",
       "  <tbody>\n",
       "    <tr>\n",
       "      <th>0</th>\n",
       "      <td>(Soap)</td>\n",
       "      <td>(Water)</td>\n",
       "      <td>0.833333</td>\n",
       "    </tr>\n",
       "    <tr>\n",
       "      <th>1</th>\n",
       "      <td>(Water)</td>\n",
       "      <td>(Soap)</td>\n",
       "      <td>0.769231</td>\n",
       "    </tr>\n",
       "  </tbody>\n",
       "</table>\n",
       "</div>"
      ],
      "text/plain": [
       "  antecedents consequents  confidence\n",
       "0      (Soap)     (Water)    0.833333\n",
       "1     (Water)      (Soap)    0.769231"
      ]
     },
     "execution_count": 9,
     "metadata": {},
     "output_type": "execute_result"
    }
   ],
   "source": [
    "rules = association_rules(f, metric='confidence', min_threshold=0.75)\n",
    "rules[['antecedents', 'consequents', 'confidence']]"
   ]
  }
 ],
 "metadata": {
  "kernelspec": {
   "display_name": "Python 3",
   "language": "python",
   "name": "python3"
  },
  "language_info": {
   "codemirror_mode": {
    "name": "ipython",
    "version": 3
   },
   "file_extension": ".py",
   "mimetype": "text/x-python",
   "name": "python",
   "nbconvert_exporter": "python",
   "pygments_lexer": "ipython3",
   "version": "3.11.0"
  }
 },
 "nbformat": 4,
 "nbformat_minor": 2
}
